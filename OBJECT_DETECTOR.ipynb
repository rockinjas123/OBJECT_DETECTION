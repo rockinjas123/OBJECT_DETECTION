{
 "cells": [
  {
   "cell_type": "markdown",
   "id": "48463076-4490-427f-aa4c-67a59086c724",
   "metadata": {},
   "source": [
    "**IMPORTING THE PACKAGES**"
   ]
  },
  {
   "cell_type": "code",
   "execution_count": 70,
   "id": "a01d2fa2-2fb2-47a0-b593-284537802ddc",
   "metadata": {},
   "outputs": [],
   "source": [
    "# importing the required libraries\n",
    "import os\n",
    "import cv2\n",
    "import numpy as np\n",
    "import time"
   ]
  },
  {
   "cell_type": "markdown",
   "id": "86cfcf48-3c64-490a-b033-2b9737cbed3e",
   "metadata": {},
   "source": [
    "**LOADING OUR MODEL**"
   ]
  },
  {
   "cell_type": "code",
   "execution_count": 71,
   "id": "c15e4984-f11f-4884-9c06-80ef3d4369d0",
   "metadata": {},
   "outputs": [
    {
     "name": "stdout",
     "output_type": "stream",
     "text": [
      "[Info]...Model loading done\n"
     ]
    }
   ],
   "source": [
    "weights_path = \"yolo-coco/yolov3.weights\"  #loading weights\n",
    "config_path = \"yolo-coco/yolov3.cfg\"     #loading config file\n",
    "net = cv2.dnn.readNet(weights_path,config_path)  # detecting the neural network\n",
    "model = cv2.dnn_DetectionModel(net)    # detecting the model\n",
    "model.setInputParams(size=(416, 416), scale=1/255, swapRB=True)\n",
    "print(\"[Info]...Model loading done\")"
   ]
  },
  {
   "cell_type": "markdown",
   "id": "6923b910-486c-47df-9c0f-40a949abe6e0",
   "metadata": {},
   "source": [
    "**CHECKING THE CLASSES**"
   ]
  },
  {
   "cell_type": "code",
   "execution_count": 72,
   "id": "b7e18439-a644-4385-be66-4e6ad37f9b0d",
   "metadata": {},
   "outputs": [
    {
     "name": "stdout",
     "output_type": "stream",
     "text": [
      "['person', 'bicycle', 'car', 'motorbike', 'aeroplane', 'bus', 'train', 'truck', 'boat', 'traffic light', 'fire hydrant', 'stop sign', 'parking meter', 'bench', 'bird', 'cat', 'dog', 'horse', 'sheep', 'cow', 'elephant', 'bear', 'zebra', 'giraffe', 'backpack', 'umbrella', 'handbag', 'tie', 'suitcase', 'frisbee', 'skis', 'snowboard', 'sports ball', 'kite', 'baseball bat', 'baseball glove', 'skateboard', 'surfboard', 'tennis racket', 'bottle', 'wine glass', 'cup', 'fork', 'knife', 'spoon', 'bowl', 'banana', 'apple', 'sandwich', 'orange', 'broccoli', 'carrot', 'hot dog', 'pizza', 'donut', 'cake', 'chair', 'sofa', 'pottedplant', 'bed', 'diningtable', 'toilet', 'tvmonitor', 'laptop', 'mouse', 'remote', 'keyboard', 'cell phone', 'microwave', 'oven', 'toaster', 'sink', 'refrigerator', 'book', 'clock', 'vase', 'scissors', 'teddy bear', 'hair drier', 'toothbrush']\n"
     ]
    }
   ],
   "source": [
    "class_name=[]  #making empty list of classes\n",
    "with open(\"yolo-coco/coco.names\",'r') as file:  #reading classes from the coco.names file(80 classes)\n",
    "    class_name=file.read().splitlines()\n",
    "print(class_name)    "
   ]
  },
  {
   "cell_type": "markdown",
   "id": "fb13c8bf-989b-4d0e-ab58-0f78b0ba7b54",
   "metadata": {},
   "source": [
    "**DETERMING THE CONSTANT PARAMETERS**"
   ]
  },
  {
   "cell_type": "code",
   "execution_count": 73,
   "id": "fb6d870a-d49f-4eb2-a4a5-b8417c8b7689",
   "metadata": {},
   "outputs": [],
   "source": [
    "Conf_threshold = 0.4\n",
    "NMS_threshold = 0.4\n",
    "COLORS = [(0, 255, 0), (0, 0, 255), (255, 0, 0), (255, 255, 0), (255, 0, 255), (0, 255, 255)]  #colours for various boxes\n",
    "font=cv2.FONT_HERSHEY_COMPLEX     # our font"
   ]
  },
  {
   "cell_type": "markdown",
   "id": "cf469c19-cb21-469b-8f1f-c4fe4277ed2c",
   "metadata": {},
   "source": [
    "**DEFINING FUNCTION FOR CAPTURING PROCESSING AND OBJECT DETECTION IN VIDEO**"
   ]
  },
  {
   "cell_type": "code",
   "execution_count": 76,
   "id": "e37f9356-8aee-4ce0-b0cb-10b1d95fffe4",
   "metadata": {},
   "outputs": [],
   "source": [
    "def start_video(cap,n):\n",
    "    frame_width = int(cap.get(3))\n",
    "    frame_height = int(cap.get(4))\n",
    "    size = (frame_width, frame_height)\n",
    "    # Below VideoWriter object will create a frame of above defined The output is stored in 'filename.avi' file.\n",
    "    result = cv2.VideoWriter('outputs/output_demo_'+str(n)+'.avi', cv2.VideoWriter_fourcc(*'MJPG'), 10, size)\n",
    "    #starting_time = time.time()  # used for sowing the frame processing per sec\n",
    "    #frame_counter = 0         # used for sowing the frame processing per sec\n",
    "    while True:\n",
    "        ret, frame = cap.read()\n",
    "        #frame_counter += 1     # used for sowing the frame processing per sec\n",
    "        if ret == False:\n",
    "            break\n",
    "        classes, scores, boxes = model.detect(frame, Conf_threshold, NMS_threshold)  #checking for classes, their probability, and the boxes\n",
    "        for (classid, score, box) in zip(classes, scores, boxes):\n",
    "            color = COLORS[int(classid) % len(COLORS)]    # choosing the colour for box\n",
    "            label = \"%s : %f\" % (class_name[classid[0]], score)   # the category with percentage\n",
    "            cv2.rectangle(frame, box, color, 1)   # drawing a rectangle around object\n",
    "            cv2.putText(frame, label, (box[0], box[1]-10),font, 0.3, color, 1) # Putting the category\n",
    "        #endingTime = time.time() - starting_time  # used for sowing the frame processing per sec\n",
    "        #fps = frame_counter/endingTime    # used for sowing the frame processing per sec\n",
    "        # print(fps)       # used for sowing the frame processing per sec\n",
    "        #cv2.putText(frame, f'FPS: {fps}', (20, 50),font, 0.7, (0, 255, 0), 2)\n",
    "        cv2.imshow('frame', frame)\n",
    "        result.write(frame)\n",
    "        key = cv2.waitKey(1)\n",
    "        if key == ord('q'):\n",
    "            break\n",
    "    cap.release()\n",
    "    result.release()\n",
    "    cv2.destroyAllWindows()"
   ]
  },
  {
   "cell_type": "markdown",
   "id": "e639e1bb-7ea5-4a38-a06e-ff811612e247",
   "metadata": {},
   "source": [
    "**CHECKING THE DEMO FILES**"
   ]
  },
  {
   "cell_type": "code",
   "execution_count": 77,
   "id": "cc5bac52-4fcf-4903-94da-c6196c2913b9",
   "metadata": {},
   "outputs": [],
   "source": [
    "cap1 = cv2.VideoCapture('demo_videos/demo1.gif')  #capturing the video and passing it to start_video function\n",
    "start_video(cap1,1)"
   ]
  },
  {
   "cell_type": "code",
   "execution_count": 78,
   "id": "cce85f15-17a1-4211-84c3-d85c7a782c29",
   "metadata": {},
   "outputs": [],
   "source": [
    "cap2 = cv2.VideoCapture('demo_videos/demo2.gif')  #capturing the video and passing it to start_video function\n",
    "start_video(cap2,2)"
   ]
  },
  {
   "cell_type": "code",
   "execution_count": 79,
   "id": "777b0846-4434-4f8d-b75d-4e26c3fbf70f",
   "metadata": {},
   "outputs": [],
   "source": [
    "cap3 = cv2.VideoCapture('demo_videos/demo3.gif')  #capturing the video and passing it to start_video function\n",
    "start_video(cap3,3)"
   ]
  },
  {
   "cell_type": "code",
   "execution_count": 80,
   "id": "650437af-d458-49ed-aa15-23fdb18de761",
   "metadata": {},
   "outputs": [],
   "source": [
    "cap4 = cv2.VideoCapture('demo_videos/output.avi') #capturing the video and passing it to start_video function\n",
    "start_video(cap4,4)"
   ]
  },
  {
   "cell_type": "code",
   "execution_count": null,
   "id": "62db1e15-b982-43fa-8c49-6f6ebddd4cd6",
   "metadata": {},
   "outputs": [],
   "source": []
  }
 ],
 "metadata": {
  "kernelspec": {
   "display_name": "Python 3",
   "language": "python",
   "name": "python3"
  },
  "language_info": {
   "codemirror_mode": {
    "name": "ipython",
    "version": 3
   },
   "file_extension": ".py",
   "mimetype": "text/x-python",
   "name": "python",
   "nbconvert_exporter": "python",
   "pygments_lexer": "ipython3",
   "version": "3.8.8"
  }
 },
 "nbformat": 4,
 "nbformat_minor": 5
}
